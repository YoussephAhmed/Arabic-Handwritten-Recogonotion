{
 "cells": [
  {
   "cell_type": "markdown",
   "metadata": {},
   "source": [
    "## Imports "
   ]
  },
  {
   "cell_type": "code",
   "execution_count": 17,
   "metadata": {},
   "outputs": [],
   "source": [
    "from keras.models import Sequential \n",
    "from keras.layers import Dense\n",
    "from keras.layers import Dropout\n",
    "from keras.layers import Activation\n",
    "from keras.layers import Flatten\n",
    "from keras.layers import BatchNormalization\n",
    "from keras.layers.convolutional import Conv2D\n",
    "from keras.layers.convolutional import MaxPooling2D\n",
    "from keras.utils import np_utils\n",
    "from keras.datasets import reuters\n",
    "from keras import models\n",
    "from keras import layers\n",
    "import matplotlib.pyplot as plt\n",
    "import numpy as np\n",
    "\n",
    "from keras import backend as K\n",
    "K.set_image_dim_ordering('th')\n",
    "\n"
   ]
  },
  {
   "cell_type": "markdown",
   "metadata": {},
   "source": [
    "### Read the train and test Data \n",
    "#### Image size -> Example size (32*32)\n",
    "#### Data size (13440  Train and Validation) and (3360 Test)"
   ]
  },
  {
   "cell_type": "code",
   "execution_count": 2,
   "metadata": {},
   "outputs": [
    {
     "name": "stdout",
     "output_type": "stream",
     "text": [
      "(13440, 32, 32)\n"
     ]
    }
   ],
   "source": [
    "#Read the training and test Data using any library from the folder or the csv file\n",
    "\n",
    "# load Train and Test Data \n",
    "\n",
    "# Train ===========================\n",
    "x_train_file = open('Arabic-Handwritten-Characters-Dataset-master\\csvTrainImages 13440x1024.csv', 'rb')\n",
    "x_train_data = np.loadtxt(x_train_file, delimiter=\",\")  # shape (13440,1024)\n",
    "\n",
    "\n",
    "\n",
    "y_train_file = open('Arabic-Handwritten-Characters-Dataset-master\\csvTrainLabel 13440x1.csv', 'rb')\n",
    "y_train_data = np.loadtxt(y_train_file, delimiter=\",\") # shape (13440,)\n",
    "\n",
    "\n",
    "# Test ===========================\n",
    "x_test_file = open('Arabic-Handwritten-Characters-Dataset-master\\csvTestImages 3360x1024.csv', 'rb')\n",
    "x_test_data = np.loadtxt(x_test_file, delimiter=\",\") # shape (3360,1024)\n",
    "\n",
    "\n",
    "y_test_file = open('Arabic-Handwritten-Characters-Dataset-master\\csvTestLabel 3360x1.csv', 'rb')\n",
    "y_test_data = np.loadtxt(y_test_file, delimiter=\",\") # shape (3360,)\n",
    "\n",
    "x_train_img = x_train_data.reshape(x_train_data.shape[0], 32, 32).astype('float32') \n",
    "x_test_img = x_test_data.reshape(x_test_data.shape[0], 32, 32).astype('float32') \n",
    "\n",
    "x_train_img = np.rot90(x_train_img, 3, (1,2)) # Rotate by 290 deg \n",
    "x_test_img = np.rot90(x_test_img, 3, (1,2)) # Rotate by 290 deg \n",
    "\n",
    "print(x_train_img.shape)"
   ]
  },
  {
   "cell_type": "markdown",
   "metadata": {},
   "source": [
    "## Check sample of the training and testing images"
   ]
  },
  {
   "cell_type": "code",
   "execution_count": 3,
   "metadata": {},
   "outputs": [
    {
     "data": {
      "text/plain": [
       "<matplotlib.image.AxesImage at 0x2362be3fa90>"
      ]
     },
     "execution_count": 3,
     "metadata": {},
     "output_type": "execute_result"
    },
    {
     "data": {
      "image/png": "[encoded data removed]",
      "text/plain": [
       "<Figure size 432x288 with 4 Axes>"
      ]
     },
     "metadata": {
      "needs_background": "light"
     },
     "output_type": "display_data"
    }
   ],
   "source": [
    "plt.subplot(221)\n",
    "plt.imshow(x_train_img[10], cmap=plt.get_cmap('gray'))\n",
    "plt.subplot(222)\n",
    "plt.imshow(x_train_img[11], cmap=plt.get_cmap('gray'))\n",
    "plt.subplot(223)\n",
    "plt.imshow(x_test_img[0], cmap=plt.get_cmap('gray'))\n",
    "plt.subplot(224)\n",
    "plt.imshow(x_test_img[3], cmap=plt.get_cmap('gray'))"
   ]
  },
  {
   "cell_type": "code",
   "execution_count": 4,
   "metadata": {},
   "outputs": [
    {
     "name": "stdout",
     "output_type": "stream",
     "text": [
      "2.0\n"
     ]
    }
   ],
   "source": [
    "print(y_test_data[3])"
   ]
  },
  {
   "cell_type": "markdown",
   "metadata": {},
   "source": [
    "## Pre-Processing"
   ]
  },
  {
   "cell_type": "code",
   "execution_count": 5,
   "metadata": {},
   "outputs": [
    {
     "name": "stdout",
     "output_type": "stream",
     "text": [
      "(13440, 1, 32, 32)\n"
     ]
    }
   ],
   "source": [
    "# Reshape to be suitable for the cnn\n",
    "x_train = x_train_img.reshape(x_train_img.shape[0], 1, 32, 32).astype('float32')\n",
    "x_test = x_test_img.reshape(x_test_img.shape[0], 1, 32, 32).astype('float32')\n",
    "\n",
    "\n",
    "# normalize inputs from 0-255 to 0-1\n",
    "x_train = x_train / 255\n",
    "x_test = x_test / 255\n",
    "\n",
    "\n",
    "\n",
    "# one hot encode outputs\n",
    "y_train = np_utils.to_categorical(y_train_data)\n",
    "y_test = np_utils.to_categorical(y_test_data)\n",
    "num_classes = y_test.shape[1]\n",
    "\n",
    "print(x_train.shape)\n"
   ]
  },
  {
   "cell_type": "markdown",
   "metadata": {},
   "source": [
    "## CNN Model , Compile , Fit, and Evaluate"
   ]
  },
  {
   "cell_type": "code",
   "execution_count": 12,
   "metadata": {},
   "outputs": [],
   "source": [
    "#Design the CNN layers here\n",
    "def cnn_model():\n",
    "    # create model\n",
    "    model = Sequential()\n",
    "    model.add(Conv2D(80, (5, 5), input_shape=(1, 32, 32), activation='relu'  , padding='valid')  )    \n",
    "    model.add(MaxPooling2D(pool_size=(2, 2), padding='valid', strides=2 ))\n",
    "    \n",
    "    model.add(Conv2D(64, (5, 5), activation='relu', padding='valid'))\n",
    "    model.add(BatchNormalization())\n",
    "    model.add(Activation(\"relu\"))\n",
    "    \n",
    "    model.add(MaxPooling2D(pool_size=(2, 2), padding='valid', strides=2 ))\n",
    "    model.add(Flatten())\n",
    "    model.add(Dense(128, activation='relu'))\n",
    "    model.add(Dropout(0.5)) # don't use drop out in CNN Layers\n",
    "    model.add(Dense(num_classes, activation='softmax'))\n",
    "\n",
    "    # Compile model\n",
    "    model.compile(loss='categorical_crossentropy', optimizer='adam', metrics=['accuracy'])\n",
    "    return model\n"
   ]
  },
  {
   "cell_type": "code",
   "execution_count": 21,
   "metadata": {},
   "outputs": [
    {
     "name": "stdout",
     "output_type": "stream",
     "text": [
      "_________________________________________________________________\n",
      "Layer (type)                 Output Shape              Param #   \n",
      "=================================================================\n",
      "conv2d_9 (Conv2D)            (None, 80, 28, 28)        2080      \n",
      "_________________________________________________________________\n",
      "max_pooling2d_7 (MaxPooling2 (None, 80, 14, 14)        0         \n",
      "_________________________________________________________________\n",
      "conv2d_10 (Conv2D)           (None, 64, 10, 10)        128064    \n",
      "_________________________________________________________________\n",
      "batch_normalization_3 (Batch (None, 64, 10, 10)        40        \n",
      "_________________________________________________________________\n",
      "activation_2 (Activation)    (None, 64, 10, 10)        0         \n",
      "_________________________________________________________________\n",
      "max_pooling2d_8 (MaxPooling2 (None, 64, 5, 5)          0         \n",
      "_________________________________________________________________\n",
      "flatten_3 (Flatten)          (None, 1600)              0         \n",
      "_________________________________________________________________\n",
      "dense_5 (Dense)              (None, 128)               204928    \n",
      "_________________________________________________________________\n",
      "dropout_4 (Dropout)          (None, 128)               0         \n",
      "_________________________________________________________________\n",
      "dense_6 (Dense)              (None, 29)                3741      \n",
      "=================================================================\n",
      "Total params: 338,853\n",
      "Trainable params: 338,833\n",
      "Non-trainable params: 20\n",
      "_________________________________________________________________\n"
     ]
    }
   ],
   "source": [
    "# Compile, fit and validate your model \n",
    "# use 0.1 of the training data only to validate your model accuracy using this function \n",
    "# model.fit(X_train, y_train, validation_split=.1, epochs=10, batch_size=200,shuffle=True, verbose=1)\n",
    "# feel free to change the epochs and batch_size numbers\n",
    "\n",
    "\n",
    "# build the model\n",
    "model = cnn_model()\n",
    "\n",
    "\n",
    "model.summary()\n"
   ]
  },
  {
   "cell_type": "code",
   "execution_count": 22,
   "metadata": {},
   "outputs": [
    {
     "name": "stdout",
     "output_type": "stream",
     "text": [
      "Train on 12096 samples, validate on 1344 samples\n",
      "Epoch 1/70\n",
      "12096/12096 [==============================] - 92s 8ms/step - loss: 3.0339 - acc: 0.1421 - val_loss: 2.3555 - val_acc: 0.3318\n",
      "Epoch 2/70\n",
      "12096/12096 [==============================] - 80s 7ms/step - loss: 2.0707 - acc: 0.3606 - val_loss: 1.4879 - val_acc: 0.5915\n",
      "Epoch 3/70\n",
      "12096/12096 [==============================] - 81s 7ms/step - loss: 1.4182 - acc: 0.5355 - val_loss: 0.9882 - val_acc: 0.7225\n",
      "Epoch 4/70\n",
      "12096/12096 [==============================] - 85s 7ms/step - loss: 1.0528 - acc: 0.6438 - val_loss: 0.7400 - val_acc: 0.7708\n",
      "Epoch 5/70\n",
      "12096/12096 [==============================] - 80s 7ms/step - loss: 0.7978 - acc: 0.7289 - val_loss: 0.5728 - val_acc: 0.8222\n",
      "Epoch 6/70\n",
      "12096/12096 [==============================] - 79s 7ms/step - loss: 0.6464 - acc: 0.7825 - val_loss: 0.4716 - val_acc: 0.8356\n",
      "Epoch 7/70\n",
      "12096/12096 [==============================] - 79s 7ms/step - loss: 0.5348 - acc: 0.8191 - val_loss: 0.4554 - val_acc: 0.8519\n",
      "Epoch 8/70\n",
      "12096/12096 [==============================] - 79s 7ms/step - loss: 0.4557 - acc: 0.8485 - val_loss: 0.3957 - val_acc: 0.8676\n",
      "Epoch 9/70\n",
      "12096/12096 [==============================] - 79s 7ms/step - loss: 0.3811 - acc: 0.8728 - val_loss: 0.3888 - val_acc: 0.8713\n",
      "Epoch 10/70\n",
      "12096/12096 [==============================] - 78s 6ms/step - loss: 0.3325 - acc: 0.8901 - val_loss: 0.3490 - val_acc: 0.8795\n",
      "Epoch 11/70\n",
      "12096/12096 [==============================] - 79s 7ms/step - loss: 0.2934 - acc: 0.8993 - val_loss: 0.3654 - val_acc: 0.8839\n",
      "Epoch 12/70\n",
      "12096/12096 [==============================] - 81s 7ms/step - loss: 0.2693 - acc: 0.9095 - val_loss: 0.3403 - val_acc: 0.8914\n",
      "Epoch 13/70\n",
      "12096/12096 [==============================] - 79s 7ms/step - loss: 0.2319 - acc: 0.9227 - val_loss: 0.3136 - val_acc: 0.8981\n",
      "Epoch 14/70\n",
      "12096/12096 [==============================] - 78s 6ms/step - loss: 0.2039 - acc: 0.9292 - val_loss: 0.3322 - val_acc: 0.8996\n",
      "Epoch 15/70\n",
      "12096/12096 [==============================] - 79s 7ms/step - loss: 0.1964 - acc: 0.9342 - val_loss: 0.3112 - val_acc: 0.8981\n",
      "Epoch 16/70\n",
      "12096/12096 [==============================] - 78s 6ms/step - loss: 0.1746 - acc: 0.9415 - val_loss: 0.3047 - val_acc: 0.9055\n",
      "Epoch 17/70\n",
      "12096/12096 [==============================] - 79s 7ms/step - loss: 0.1520 - acc: 0.9490 - val_loss: 0.3427 - val_acc: 0.9040\n",
      "Epoch 18/70\n",
      "12096/12096 [==============================] - 78s 6ms/step - loss: 0.1447 - acc: 0.9518 - val_loss: 0.3107 - val_acc: 0.9055\n",
      "Epoch 19/70\n",
      "12096/12096 [==============================] - 78s 6ms/step - loss: 0.1228 - acc: 0.9591 - val_loss: 0.3290 - val_acc: 0.9048\n",
      "Epoch 20/70\n",
      "12096/12096 [==============================] - 79s 7ms/step - loss: 0.1187 - acc: 0.9597 - val_loss: 0.3651 - val_acc: 0.8966\n",
      "Epoch 21/70\n",
      "12096/12096 [==============================] - 78s 6ms/step - loss: 0.1086 - acc: 0.9624 - val_loss: 0.2938 - val_acc: 0.9204\n",
      "Epoch 22/70\n",
      "12096/12096 [==============================] - 79s 7ms/step - loss: 0.0945 - acc: 0.9695 - val_loss: 0.3088 - val_acc: 0.9204\n",
      "Epoch 23/70\n",
      "12096/12096 [==============================] - 79s 7ms/step - loss: 0.0886 - acc: 0.9720 - val_loss: 0.3088 - val_acc: 0.9152\n",
      "Epoch 24/70\n",
      "12096/12096 [==============================] - 78s 6ms/step - loss: 0.0922 - acc: 0.9696 - val_loss: 0.3957 - val_acc: 0.9033\n",
      "Epoch 25/70\n",
      "12096/12096 [==============================] - 79s 7ms/step - loss: 0.0850 - acc: 0.9724 - val_loss: 0.3731 - val_acc: 0.9025\n",
      "Epoch 26/70\n",
      "12096/12096 [==============================] - 78s 6ms/step - loss: 0.0794 - acc: 0.9738 - val_loss: 0.3343 - val_acc: 0.9182\n",
      "Epoch 27/70\n",
      "12096/12096 [==============================] - 79s 7ms/step - loss: 0.0663 - acc: 0.9789 - val_loss: 0.3343 - val_acc: 0.9159\n",
      "Epoch 28/70\n",
      "12096/12096 [==============================] - 79s 7ms/step - loss: 0.0661 - acc: 0.9776 - val_loss: 0.3537 - val_acc: 0.9159\n",
      "Epoch 29/70\n",
      "12096/12096 [==============================] - 85s 7ms/step - loss: 0.0654 - acc: 0.9789 - val_loss: 0.3208 - val_acc: 0.9219\n",
      "Epoch 30/70\n",
      "12096/12096 [==============================] - 79s 7ms/step - loss: 0.0655 - acc: 0.9778 - val_loss: 0.3176 - val_acc: 0.9219\n",
      "Epoch 31/70\n",
      "12096/12096 [==============================] - 79s 7ms/step - loss: 0.0661 - acc: 0.9782 - val_loss: 0.3533 - val_acc: 0.9129\n",
      "Epoch 32/70\n",
      "12096/12096 [==============================] - 80s 7ms/step - loss: 0.0622 - acc: 0.9792 - val_loss: 0.3372 - val_acc: 0.9174\n",
      "Epoch 33/70\n",
      "12096/12096 [==============================] - 78s 6ms/step - loss: 0.0573 - acc: 0.9811 - val_loss: 0.3438 - val_acc: 0.9167\n",
      "Epoch 34/70\n",
      "12096/12096 [==============================] - 78s 6ms/step - loss: 0.0472 - acc: 0.9849 - val_loss: 0.3805 - val_acc: 0.9159\n",
      "Epoch 35/70\n",
      "12096/12096 [==============================] - 79s 7ms/step - loss: 0.0452 - acc: 0.9851 - val_loss: 0.3636 - val_acc: 0.9137\n",
      "Epoch 36/70\n",
      "12096/12096 [==============================] - 78s 6ms/step - loss: 0.0502 - acc: 0.9836 - val_loss: 0.3338 - val_acc: 0.9159\n",
      "Epoch 37/70\n",
      "12096/12096 [==============================] - 78s 6ms/step - loss: 0.0466 - acc: 0.9835 - val_loss: 0.3650 - val_acc: 0.9122\n",
      "Epoch 38/70\n",
      "12096/12096 [==============================] - 78s 6ms/step - loss: 0.0517 - acc: 0.9821 - val_loss: 0.4063 - val_acc: 0.8914\n",
      "Epoch 39/70\n",
      "12096/12096 [==============================] - 78s 6ms/step - loss: 0.0473 - acc: 0.9837 - val_loss: 0.3392 - val_acc: 0.9182\n",
      "Epoch 40/70\n",
      "12096/12096 [==============================] - 77s 6ms/step - loss: 0.0492 - acc: 0.9816 - val_loss: 0.3778 - val_acc: 0.9152\n",
      "Epoch 41/70\n",
      "12096/12096 [==============================] - 78s 6ms/step - loss: 0.0471 - acc: 0.9832 - val_loss: 0.3666 - val_acc: 0.9249\n",
      "Epoch 42/70\n",
      "12096/12096 [==============================] - 78s 6ms/step - loss: 0.0416 - acc: 0.9851 - val_loss: 0.4240 - val_acc: 0.9144\n",
      "Epoch 43/70\n",
      "12096/12096 [==============================] - 78s 6ms/step - loss: 0.0374 - acc: 0.9874 - val_loss: 0.4283 - val_acc: 0.9144\n",
      "Epoch 44/70\n",
      "12096/12096 [==============================] - 80s 7ms/step - loss: 0.0379 - acc: 0.9869 - val_loss: 0.3563 - val_acc: 0.9211\n",
      "Epoch 45/70\n",
      "12096/12096 [==============================] - 80s 7ms/step - loss: 0.0375 - acc: 0.9870 - val_loss: 0.3727 - val_acc: 0.9226\n",
      "Epoch 46/70\n",
      "12096/12096 [==============================] - 79s 7ms/step - loss: 0.0383 - acc: 0.9864 - val_loss: 0.3703 - val_acc: 0.9137\n",
      "Epoch 47/70\n",
      "12096/12096 [==============================] - 79s 6ms/step - loss: 0.0365 - acc: 0.9880 - val_loss: 0.3335 - val_acc: 0.9278\n",
      "Epoch 48/70\n",
      "12096/12096 [==============================] - 78s 6ms/step - loss: 0.0357 - acc: 0.9879 - val_loss: 0.3773 - val_acc: 0.9196\n",
      "Epoch 49/70\n",
      "12096/12096 [==============================] - 79s 7ms/step - loss: 0.0277 - acc: 0.9901 - val_loss: 0.4344 - val_acc: 0.9219\n",
      "Epoch 50/70\n",
      "12096/12096 [==============================] - 79s 6ms/step - loss: 0.0349 - acc: 0.9878 - val_loss: 0.3676 - val_acc: 0.9249\n",
      "Epoch 51/70\n",
      "12096/12096 [==============================] - 79s 7ms/step - loss: 0.0296 - acc: 0.9899 - val_loss: 0.3898 - val_acc: 0.9137\n",
      "Epoch 52/70\n",
      "12096/12096 [==============================] - 79s 7ms/step - loss: 0.0269 - acc: 0.9907 - val_loss: 0.3907 - val_acc: 0.9167\n",
      "Epoch 53/70\n",
      "12096/12096 [==============================] - 80s 7ms/step - loss: 0.0357 - acc: 0.9870 - val_loss: 0.3851 - val_acc: 0.9182\n",
      "Epoch 54/70\n",
      "12096/12096 [==============================] - 79s 7ms/step - loss: 0.0337 - acc: 0.9878 - val_loss: 0.3900 - val_acc: 0.9263\n",
      "Epoch 55/70\n",
      "12096/12096 [==============================] - 80s 7ms/step - loss: 0.0285 - acc: 0.9904 - val_loss: 0.3735 - val_acc: 0.9234\n",
      "Epoch 56/70\n",
      "12096/12096 [==============================] - 78s 6ms/step - loss: 0.0288 - acc: 0.9901 - val_loss: 0.4543 - val_acc: 0.9226\n",
      "Epoch 57/70\n",
      "12096/12096 [==============================] - 79s 7ms/step - loss: 0.0318 - acc: 0.9901 - val_loss: 0.4080 - val_acc: 0.9204\n",
      "Epoch 58/70\n",
      "12096/12096 [==============================] - 80s 7ms/step - loss: 0.0303 - acc: 0.9912 - val_loss: 0.4201 - val_acc: 0.9159\n",
      "Epoch 59/70\n",
      "12096/12096 [==============================] - 83s 7ms/step - loss: 0.0391 - acc: 0.9867 - val_loss: 0.3476 - val_acc: 0.9278\n",
      "Epoch 60/70\n"
     ]
    },
    {
     "name": "stdout",
     "output_type": "stream",
     "text": [
      "12096/12096 [==============================] - 79s 6ms/step - loss: 0.0332 - acc: 0.9893 - val_loss: 0.4014 - val_acc: 0.9196\n",
      "Epoch 61/70\n",
      "12096/12096 [==============================] - 80s 7ms/step - loss: 0.0281 - acc: 0.9907 - val_loss: 0.3581 - val_acc: 0.9204\n",
      "Epoch 62/70\n",
      "12096/12096 [==============================] - 80s 7ms/step - loss: 0.0267 - acc: 0.9908 - val_loss: 0.3850 - val_acc: 0.9256\n",
      "Epoch 63/70\n",
      "12096/12096 [==============================] - 79s 7ms/step - loss: 0.0235 - acc: 0.9931 - val_loss: 0.3652 - val_acc: 0.9256\n",
      "Epoch 64/70\n",
      "12096/12096 [==============================] - 79s 7ms/step - loss: 0.0245 - acc: 0.9907 - val_loss: 0.4032 - val_acc: 0.9256\n",
      "Epoch 65/70\n",
      "12096/12096 [==============================] - 79s 7ms/step - loss: 0.0280 - acc: 0.9915 - val_loss: 0.3999 - val_acc: 0.9278\n",
      "Epoch 66/70\n",
      "12096/12096 [==============================] - 78s 6ms/step - loss: 0.0310 - acc: 0.9878 - val_loss: 0.3856 - val_acc: 0.9234\n",
      "Epoch 67/70\n",
      "12096/12096 [==============================] - 78s 6ms/step - loss: 0.0264 - acc: 0.9909 - val_loss: 0.4541 - val_acc: 0.9144\n",
      "Epoch 68/70\n",
      "12096/12096 [==============================] - 79s 7ms/step - loss: 0.0317 - acc: 0.9887 - val_loss: 0.5468 - val_acc: 0.9063\n",
      "Epoch 69/70\n",
      "12096/12096 [==============================] - 78s 6ms/step - loss: 0.0276 - acc: 0.9896 - val_loss: 0.4811 - val_acc: 0.9122\n",
      "Epoch 70/70\n",
      "12096/12096 [==============================] - 78s 6ms/step - loss: 0.0221 - acc: 0.9926 - val_loss: 0.4398 - val_acc: 0.9196\n"
     ]
    }
   ],
   "source": [
    "\n",
    "# Fit the model\n",
    "history = model.fit(x_train, y_train, validation_split=.1, epochs=70, batch_size=300, verbose=1)\n"
   ]
  },
  {
   "cell_type": "markdown",
   "metadata": {},
   "source": [
    "## Visualize the train and validate Error"
   ]
  },
  {
   "cell_type": "code",
   "execution_count": 23,
   "metadata": {},
   "outputs": [
    {
     "data": {
      "image/png": "[encoded data removed]",
      "text/plain": [
       "<Figure size 432x288 with 1 Axes>"
      ]
     },
     "metadata": {
      "needs_background": "light"
     },
     "output_type": "display_data"
    },
    {
     "data": {
      "image/png": "[encoded data removed]",
      "text/plain": [
       "<Figure size 432x288 with 1 Axes>"
      ]
     },
     "metadata": {
      "needs_background": "light"
     },
     "output_type": "display_data"
    }
   ],
   "source": [
    "\n",
    "plt.plot(history.history['acc'])\n",
    "plt.plot(history.history['val_acc'])\n",
    "plt.title('Model accuracy')\n",
    "plt.ylabel('Accuracy')\n",
    "plt.xlabel('Epoch')\n",
    "plt.legend(['Train', 'Test'], loc='upper left')\n",
    "plt.show()\n",
    "\n",
    "# Plot training & validation loss values\n",
    "plt.plot(history.history['loss'])\n",
    "plt.plot(history.history['val_loss'])\n",
    "plt.title('Model loss')\n",
    "plt.ylabel('Loss')\n",
    "plt.xlabel('Epoch')\n",
    "plt.legend(['Train', 'Test'], loc='upper left')\n",
    "plt.show()"
   ]
  },
  {
   "cell_type": "markdown",
   "metadata": {},
   "source": [
    "## ِApply Early Stopping stop training at epoch 10"
   ]
  },
  {
   "cell_type": "code",
   "execution_count": 26,
   "metadata": {},
   "outputs": [
    {
     "name": "stdout",
     "output_type": "stream",
     "text": [
      "Train on 12096 samples, validate on 1344 samples\n",
      "Epoch 1/10\n",
      "12096/12096 [==============================] - 93s 8ms/step - loss: 2.9891 - acc: 0.1532 - val_loss: 2.3364 - val_acc: 0.3646\n",
      "Epoch 2/10\n",
      "12096/12096 [==============================] - 90s 7ms/step - loss: 2.0391 - acc: 0.3730 - val_loss: 1.4877 - val_acc: 0.6131\n",
      "Epoch 3/10\n",
      "12096/12096 [==============================] - 96s 8ms/step - loss: 1.3798 - acc: 0.5471 - val_loss: 0.9602 - val_acc: 0.7217\n",
      "Epoch 4/10\n",
      "12096/12096 [==============================] - 85s 7ms/step - loss: 0.9882 - acc: 0.6763 - val_loss: 0.6680 - val_acc: 0.7894\n",
      "Epoch 5/10\n",
      "12096/12096 [==============================] - 92s 8ms/step - loss: 0.7481 - acc: 0.7521 - val_loss: 0.5357 - val_acc: 0.8237\n",
      "Epoch 6/10\n",
      "12096/12096 [==============================] - 85s 7ms/step - loss: 0.6004 - acc: 0.8008 - val_loss: 0.4637 - val_acc: 0.8504\n",
      "Epoch 7/10\n",
      "12096/12096 [==============================] - 91s 8ms/step - loss: 0.5035 - acc: 0.8313 - val_loss: 0.3997 - val_acc: 0.8594\n",
      "Epoch 8/10\n",
      "12096/12096 [==============================] - 93s 8ms/step - loss: 0.4114 - acc: 0.8641 - val_loss: 0.3645 - val_acc: 0.8735\n",
      "Epoch 9/10\n",
      "12096/12096 [==============================] - 82s 7ms/step - loss: 0.3539 - acc: 0.8823 - val_loss: 0.3565 - val_acc: 0.8698\n",
      "Epoch 10/10\n",
      "12096/12096 [==============================] - 80s 7ms/step - loss: 0.3151 - acc: 0.8962 - val_loss: 0.3114 - val_acc: 0.8988\n"
     ]
    }
   ],
   "source": [
    "# Re build the model\n",
    "model = cnn_model()\n",
    "\n",
    "# Fit the model again\n",
    "history = model.fit(x_train, y_train, validation_split=.1, epochs=10, batch_size=300, verbose=1)\n"
   ]
  },
  {
   "cell_type": "code",
   "execution_count": 27,
   "metadata": {},
   "outputs": [
    {
     "name": "stdout",
     "output_type": "stream",
     "text": [
      "CNN Error Rate: 7.92%\n"
     ]
    }
   ],
   "source": [
    "\n",
    "scores = model.evaluate(x_test, y_test, verbose=0)\n",
    "print(\"CNN Error Rate: %.2f%%\" % (100 - scores[1]*100))\n",
    "\n",
    "# We will compare the three arch with the validation accuracy \n",
    "# name our jupyter file with your first name under score mode\n",
    "# Y_model -> Youssef\n",
    "# N_model -> Nabeil\n",
    "# M_model -> Menna\n",
    "\n",
    "# create a branch with your name and push on it\n",
    "\n",
    "# >>>>>>>>>>>>> Don't measure your performance on the test data to avoid overfitting  <<<<<<<<<<<<<<<<<<<<\n",
    "\n",
    "# after choosing the best Arch we will measure it's performance on the test set\n"
   ]
  },
  {
   "cell_type": "markdown",
   "metadata": {},
   "source": [
    "## Predict some images with our model and check there correct label"
   ]
  },
  {
   "cell_type": "code",
   "execution_count": 28,
   "metadata": {},
   "outputs": [
    {
     "name": "stdout",
     "output_type": "stream",
     "text": [
      "[18]\n"
     ]
    },
    {
     "data": {
      "image/png": "[encoded data removed]",
      "text/plain": [
       "<Figure size 432x288 with 1 Axes>"
      ]
     },
     "metadata": {
      "needs_background": "light"
     },
     "output_type": "display_data"
    }
   ],
   "source": [
    "index = 371 # of the sample to be tested\n",
    "\n",
    "y = model.predict_classes(x_test[index:index+1])\n",
    "plt.imshow(x_test_img[index], cmap=plt.get_cmap('gray'))\n",
    "print(y)"
   ]
  },
  {
   "cell_type": "code",
   "execution_count": null,
   "metadata": {},
   "outputs": [],
   "source": []
  }
 ],
 "metadata": {
  "kernelspec": {
   "display_name": "Python 3",
   "language": "python",
   "name": "python3"
  },
  "language_info": {
   "codemirror_mode": {
    "name": "ipython",
    "version": 3
   },
   "file_extension": ".py",
   "mimetype": "text/x-python",
   "name": "python",
   "nbconvert_exporter": "python",
   "pygments_lexer": "ipython3",
   "version": "3.6.8"
  }
 },
 "nbformat": 4,
 "nbformat_minor": 2
}
