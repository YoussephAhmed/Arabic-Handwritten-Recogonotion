{
 "cells": [
  {
   "cell_type": "markdown",
   "metadata": {},
   "source": [
    "## Imports "
   ]
  },
  {
   "cell_type": "code",
   "execution_count": 2,
   "metadata": {},
   "outputs": [],
   "source": [
    "from keras.models import Sequential \n",
    "from keras.layers import Dense\n",
    "from keras.layers import Dropout\n",
    "from keras.utils import np_utils\n",
    "from keras.datasets import reuters\n",
    "from keras import models\n",
    "from keras import layers\n",
    "import matplotlib.pyplot as plt\n",
    "import numpy as np"
   ]
  },
  {
   "cell_type": "markdown",
   "metadata": {},
   "source": [
    "### Read the train and test Data \n",
    "#### Image size -> Example size (32*32)\n",
    "#### Data size (13440  Train and Validation) and (3360 Test)"
   ]
  },
  {
   "cell_type": "code",
   "execution_count": null,
   "metadata": {},
   "outputs": [],
   "source": [
    "#Read the training and test Data using any library from the folder or the csv file\n"
   ]
  },
  {
   "cell_type": "code",
   "execution_count": null,
   "metadata": {},
   "outputs": [],
   "source": [
    "#Design the CNN layers here"
   ]
  },
  {
   "cell_type": "code",
   "execution_count": null,
   "metadata": {},
   "outputs": [],
   "source": [
    "# Compile, fit and validate your model \n",
    "# use 0.1 of the training data only to validate your model accuracy using this function \n",
    "# model.fit(X_train, y_train, validation_split=.1, epochs=10, batch_size=200,shuffle=True, verbose=1)\n",
    "# feel free to change the epochs and batch_size numbers"
   ]
  },
  {
   "cell_type": "code",
   "execution_count": null,
   "metadata": {},
   "outputs": [],
   "source": [
    "# We will compare the three arch with the validation accuracy \n",
    "# name our jupyter file with your first name under score mode\n",
    "# Y_model -> Youssef\n",
    "# N_model -> Nabeil\n",
    "# M_model -> Menna\n",
    "\n",
    "# create a branch with your name and push on it\n",
    "\n",
    "# >>>>>>>>>>>>> Don't measure your performance on the test data to avoid overfitting  <<<<<<<<<<<<<<<<<<<<\n",
    "\n",
    "# after choosing the best Arch we will measure it's performance on the test set\n"
   ]
  }
 ],
 "metadata": {
  "kernelspec": {
   "display_name": "Python 3",
   "language": "python",
   "name": "python3"
  },
  "language_info": {
   "codemirror_mode": {
    "name": "ipython",
    "version": 3
   },
   "file_extension": ".py",
   "mimetype": "text/x-python",
   "name": "python",
   "nbconvert_exporter": "python",
   "pygments_lexer": "ipython3",
   "version": "3.6.8"
  }
 },
 "nbformat": 4,
 "nbformat_minor": 2
}
